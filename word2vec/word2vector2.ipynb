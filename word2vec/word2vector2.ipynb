{
 "cells": [
  {
   "cell_type": "code",
   "execution_count": 17,
   "metadata": {
    "collapsed": true
   },
   "outputs": [],
   "source": [
    "import word2vec\n",
    "import numpy as np\n",
    "import matplotlib\n",
    "import matplotlib.pyplot as plt\n",
    "from sklearn.decomposition import PCA"
   ]
  },
  {
   "cell_type": "code",
   "execution_count": 2,
   "metadata": {},
   "outputs": [
    {
     "name": "stdout",
     "output_type": "stream",
     "text": [
      "Starting training using file ../data/ming_seg_filter.txt\n",
      "Vocab size: 18079\n",
      "Words in train file: 705043\n",
      "Alpha: 0.000372  Progress: 98.80%  Words/thread/sec: 311.30k  "
     ]
    }
   ],
   "source": [
    " word2vec.word2vec('../data/ming_seg_filter.txt','corpusWord2Vec.bin', size=100, verbose=True)"
   ]
  },
  {
   "cell_type": "code",
   "execution_count": 3,
   "metadata": {
    "collapsed": true
   },
   "outputs": [],
   "source": [
    "model = word2vec.load('corpusWord2Vec.bin')"
   ]
  },
  {
   "cell_type": "code",
   "execution_count": 4,
   "metadata": {},
   "outputs": [
    {
     "name": "stdout",
     "output_type": "stream",
     "text": [
      "[[ 0.14333282  0.15825513 -0.13715845 ...,  0.05456942  0.10955409\n",
      "   0.00693387]\n",
      " [ 0.20262951 -0.07116252  0.08367444 ...,  0.16093986 -0.01941865\n",
      "  -0.04263975]\n",
      " [ 0.01307459 -0.18236566  0.13508219 ...,  0.11083151  0.13762848\n",
      "   0.05607488]\n",
      " ..., \n",
      " [ 0.0132345  -0.09073471  0.12604494 ...,  0.05862579 -0.05410026\n",
      "  -0.06931233]\n",
      " [-0.00698359 -0.13297865  0.18469693 ...,  0.10491473 -0.02824825\n",
      "  -0.02368198]\n",
      " [ 0.01428132 -0.12278935  0.17103173 ...,  0.11117885 -0.02746083\n",
      "  -0.03504044]]\n"
     ]
    }
   ],
   "source": [
    "print (model.vectors)"
   ]
  },
  {
   "cell_type": "code",
   "execution_count": 7,
   "metadata": {},
   "outputs": [
    {
     "name": "stdout",
     "output_type": "stream",
     "text": [
      "颍川\n"
     ]
    }
   ],
   "source": [
    "index = 10000\n",
    "print (model.vocab[index])"
   ]
  },
  {
   "cell_type": "code",
   "execution_count": 15,
   "metadata": {},
   "outputs": [
    {
     "name": "stdout",
     "output_type": "stream",
     "text": [
      "才\n",
      "此外\n",
      "不见\n",
      "见\n",
      "今日\n",
      "妾\n",
      "含沙\n",
      "已长\n",
      "迍邅\n",
      "阿姑\n"
     ]
    }
   ],
   "source": [
    "indexes = model.cosine(u'好')\n",
    "for index in indexes[0]:\n",
    "    print (model.vocab[index])"
   ]
  },
  {
   "cell_type": "code",
   "execution_count": 73,
   "metadata": {},
   "outputs": [],
   "source": [
    "rawWordVec=model.vectors\n",
    "# reduce the dimension of word vector\n",
    "X_reduced = PCA(n_components=2).fit_transform(rawWordVec)"
   ]
  },
  {
   "cell_type": "code",
   "execution_count": 74,
   "metadata": {
    "collapsed": true
   },
   "outputs": [],
   "source": [
    "index1,metrics1 = model.cosine(u'夏')"
   ]
  },
  {
   "cell_type": "code",
   "execution_count": 75,
   "metadata": {},
   "outputs": [],
   "source": [
    "fig = plt.figure()\n",
    "ax = fig.add_subplot(111)"
   ]
  },
  {
   "cell_type": "code",
   "execution_count": 76,
   "metadata": {},
   "outputs": [],
   "source": [
    "for i in index1:\n",
    "    ax.text(X_reduced[i][0],X_reduced[i][1], model.vocab[i],color='r')"
   ]
  },
  {
   "cell_type": "code",
   "execution_count": 77,
   "metadata": {},
   "outputs": [
    {
     "data": {
      "text/plain": [
       "[0, 0.9, -0.1, 0.1]"
      ]
     },
     "execution_count": 77,
     "metadata": {},
     "output_type": "execute_result"
    }
   ],
   "source": [
    "ax.axis([0,0.9,-0.1,0.1])"
   ]
  },
  {
   "cell_type": "code",
   "execution_count": 78,
   "metadata": {},
   "outputs": [
    {
     "data": {
      "image/png": "[encoded data removed]",
      "text/plain": [
       "<matplotlib.figure.Figure at 0x102917128>"
      ]
     },
     "metadata": {},
     "output_type": "display_data"
    }
   ],
   "source": [
    "plt.show()"
   ]
  }
 ],
 "metadata": {
  "kernelspec": {
   "display_name": "Python 3",
   "language": "python",
   "name": "python3"
  },
  "language_info": {
   "codemirror_mode": {
    "name": "ipython",
    "version": 3
   },
   "file_extension": ".py",
   "mimetype": "text/x-python",
   "name": "python",
   "nbconvert_exporter": "python",
   "pygments_lexer": "ipython3",
   "version": "3.5.2"
  }
 },
 "nbformat": 4,
 "nbformat_minor": 2
}
